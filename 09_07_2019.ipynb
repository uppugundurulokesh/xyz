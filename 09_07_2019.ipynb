{
 "cells": [
  {
   "cell_type": "code",
   "execution_count": 1,
   "metadata": {},
   "outputs": [
    {
     "name": "stdout",
     "output_type": "stream",
     "text": [
      "1\n",
      "10\n",
      "1\n"
     ]
    }
   ],
   "source": [
    "#Function to calculate the average of all factorials in a given range\n",
    "n=int(input())\n",
    "n1=int(input())\n",
    "for i in range(n,n1+1):\n",
    "    if(n%i==0):\n",
    "        print(i)"
   ]
  },
  {
   "cell_type": "code",
   "execution_count": 23,
   "metadata": {},
   "outputs": [
    {
     "name": "stdout",
     "output_type": "stream",
     "text": [
      "5\n"
     ]
    }
   ],
   "source": [
    "#Given an integer, ’n’ , perform the following conditional actions:\n",
    "#If ‘n’  is odd, print Weird\n",
    "#If  ‘n’ is even and in the inclusive range of 2 to 5, print Not Weird\n",
    "#If  ‘n’ is even and in the inclusive range of 6 to 20 , print Weird\n",
    "#If  ‘n’ is even and greater than 20, print Not Weird\n",
    "\n",
    "n=int(input())\n",
    "if i in range(2,5+1):\n",
    "    if(i%2==0):\n",
    "        print(\"Not Weird\")\n",
    "    else:\n",
    "        print(\"Weird\")\n",
    "if i in range(6,20+1):\n",
    "    if(i%2==0):\n",
    "        print(\"Not Weird\")\n",
    "    else:\n",
    "        print(\"Weird\")\n",
    "if(n>20):\n",
    "    print(\"Not Weird\")\n",
    "    \n",
    "\n",
    "\n"
   ]
  },
  {
   "cell_type": "code",
   "execution_count": 22,
   "metadata": {},
   "outputs": [
    {
     "name": "stdout",
     "output_type": "stream",
     "text": [
      "hllo 12 %\n"
     ]
    },
    {
     "data": {
      "text/plain": [
       "'HLLO 12 %'"
      ]
     },
     "execution_count": 22,
     "metadata": {},
     "output_type": "execute_result"
    }
   ],
   "source": [
    "#You are given a string and your task is to swap cases. In other words, convert all lowercase letters to uppercase letters and vice versa. \n",
    "#(The String may contain special characters).\n",
    "s=input()\n",
    "s.swapcase()\n",
    "\n"
   ]
  },
  {
   "cell_type": "code",
   "execution_count": 19,
   "metadata": {},
   "outputs": [
    {
     "name": "stdout",
     "output_type": "stream",
     "text": [
      "2\n",
      "34\n",
      "4\n",
      "4\n"
     ]
    }
   ],
   "source": [
    "#Given the participants ‘n’ score sheet for your University Sports Day, you are required to find the \n",
    "#runner-up score. You are given scores. Store them in a list and find the score of the runner-up. \n",
    "#(there can be multiple winners - if their scores match).\n",
    "n=int(input())\n",
    "s=[]\n",
    "for i in range(n):\n",
    "    s1=int(input())\n",
    "    s.append(s1)\n",
    "s=sorted(s,reverse = True)\n",
    "#print(s)\n",
    "#print(s[1])\n",
    "runner_score=s[1]\n",
    "max_scores=max(s)\n",
    "#max_scores\n",
    "for i in range(1,n):\n",
    "    if max_scores==s[i]:\n",
    "        runner_score=s[i+1]\n",
    "print(runner_score)\n",
    "    "
   ]
  },
  {
   "cell_type": "markdown",
   "metadata": {},
   "source": [
    "# Dictionaries"
   ]
  },
  {
   "cell_type": "code",
   "execution_count": 24,
   "metadata": {},
   "outputs": [
    {
     "name": "stdout",
     "output_type": "stream",
     "text": [
      "{}\n"
     ]
    }
   ],
   "source": [
    "sample={}\n",
    "print(sample)"
   ]
  },
  {
   "cell_type": "code",
   "execution_count": 28,
   "metadata": {},
   "outputs": [
    {
     "data": {
      "text/plain": [
       "{'name': 'lokesh', 'age': 20, 'profession': 'trainer'}"
      ]
     },
     "execution_count": 28,
     "metadata": {},
     "output_type": "execute_result"
    }
   ],
   "source": [
    "sample={\"name\":\"lokesh\",\"age\":18,\"profession\":\"trainer\"}\n",
    "#print(sample)\n",
    "#print(sample[\"age\"])\n",
    "#sample.get(\"name\")\n",
    "sample[\"age\"]=20\n",
    "sample"
   ]
  },
  {
   "cell_type": "code",
   "execution_count": 29,
   "metadata": {},
   "outputs": [
    {
     "name": "stdout",
     "output_type": "stream",
     "text": [
      "name\n",
      "age\n",
      "profession\n"
     ]
    }
   ],
   "source": [
    "for i in sample:\n",
    "    print(i)"
   ]
  },
  {
   "cell_type": "code",
   "execution_count": 30,
   "metadata": {},
   "outputs": [
    {
     "name": "stdout",
     "output_type": "stream",
     "text": [
      "lokesh\n",
      "20\n",
      "trainer\n"
     ]
    }
   ],
   "source": [
    "for i in sample:\n",
    "    print(sample[i])"
   ]
  },
  {
   "cell_type": "code",
   "execution_count": 31,
   "metadata": {},
   "outputs": [
    {
     "name": "stdout",
     "output_type": "stream",
     "text": [
      "name : lokesh\n",
      "age : 20\n",
      "profession : trainer\n"
     ]
    }
   ],
   "source": [
    "for i in sample:\n",
    "    print(i,\":\",sample[i])"
   ]
  },
  {
   "cell_type": "code",
   "execution_count": 35,
   "metadata": {},
   "outputs": [
    {
     "name": "stdout",
     "output_type": "stream",
     "text": [
      "lokesh\n",
      "20\n",
      "trainer\n"
     ]
    }
   ],
   "source": [
    "l=sample.values()\n",
    "#l\n",
    "for i in l:\n",
    "    print(i)"
   ]
  },
  {
   "cell_type": "code",
   "execution_count": 36,
   "metadata": {},
   "outputs": [
    {
     "name": "stdout",
     "output_type": "stream",
     "text": [
      "('name', 'lokesh')\n",
      "('age', 20)\n",
      "('profession', 'trainer')\n"
     ]
    }
   ],
   "source": [
    "for i in sample.items():\n",
    "    print(i)"
   ]
  },
  {
   "cell_type": "code",
   "execution_count": 37,
   "metadata": {},
   "outputs": [
    {
     "name": "stdout",
     "output_type": "stream",
     "text": [
      "yes\n"
     ]
    }
   ],
   "source": [
    "if \"name\" in sample:\n",
    "    print(\"yes\")\n",
    "else:\n",
    "    print(\"no\")"
   ]
  },
  {
   "cell_type": "code",
   "execution_count": 38,
   "metadata": {},
   "outputs": [
    {
     "name": "stdout",
     "output_type": "stream",
     "text": [
      "yes\n"
     ]
    }
   ],
   "source": [
    "if \"ding\" not in sample:\n",
    "    print(\"yes\")"
   ]
  },
  {
   "cell_type": "code",
   "execution_count": 39,
   "metadata": {},
   "outputs": [
    {
     "data": {
      "text/plain": [
       "{'name': 'lokesh', 'age': 20, 'profession': 'trainer', 'salary': 100000}"
      ]
     },
     "execution_count": 39,
     "metadata": {},
     "output_type": "execute_result"
    }
   ],
   "source": [
    "sample['salary']=100000\n",
    "sample"
   ]
  },
  {
   "cell_type": "code",
   "execution_count": 40,
   "metadata": {},
   "outputs": [
    {
     "data": {
      "text/plain": [
       "{'name': 'lokesh', 'age': 20, 'salary': 100000}"
      ]
     },
     "execution_count": 40,
     "metadata": {},
     "output_type": "execute_result"
    }
   ],
   "source": [
    "sample.pop('profession')\n",
    "sample"
   ]
  },
  {
   "cell_type": "markdown",
   "metadata": {},
   "source": [
    "sample.popitem()\n",
    "sample"
   ]
  },
  {
   "cell_type": "code",
   "execution_count": 42,
   "metadata": {},
   "outputs": [
    {
     "data": {
      "text/plain": [
       "{'age': 20}"
      ]
     },
     "execution_count": 42,
     "metadata": {},
     "output_type": "execute_result"
    }
   ],
   "source": [
    "thisdic={\"name\":\"ding\",\"age\":20}\n",
    "del thisdic['name']\n",
    "thisdic"
   ]
  },
  {
   "cell_type": "code",
   "execution_count": 43,
   "metadata": {},
   "outputs": [
    {
     "data": {
      "text/plain": [
       "{'name': 'lokesh', 'age': 20, 'profession': 'trainer'}"
      ]
     },
     "execution_count": 43,
     "metadata": {},
     "output_type": "execute_result"
    }
   ],
   "source": [
    "sample=dict(name=\"lokesh\",age=20,profession=\"trainer\")\n",
    "sample"
   ]
  },
  {
   "cell_type": "code",
   "execution_count": 11,
   "metadata": {},
   "outputs": [
    {
     "name": "stdout",
     "output_type": "stream",
     "text": [
      "enter the sports persions namelokesh\n",
      "enter the score made by 100\n",
      "enter the sports persions namemastan\n",
      "enter the score made by 200\n",
      "enter the sports persions namerami\n",
      "enter the score made by 500\n",
      "enter the sports persions namegopi\n",
      "enter the score made by 400\n",
      "enter the sports persions nameuv\n",
      "enter the score made by 300\n",
      "{'lokesh': 100, 'mastan': 200, 'rami': 500, 'gopi': 400, 'uv': 300}\n"
     ]
    }
   ],
   "source": [
    "#read all the individual score of 10 persons and display the winner name use dictionaries for this problem\n",
    "sports={}\n",
    "for i in range(5):\n",
    "    name=input(\"enter the sports persions name\")\n",
    "    score=int(input(\"enter the score made by \"))\n",
    "    sports[name]=score\n",
    "print(sports)\n",
    "    "
   ]
  },
  {
   "cell_type": "code",
   "execution_count": null,
   "metadata": {},
   "outputs": [],
   "source": [
    "#print max score\n",
    "max_score=max(sports.values())\n",
    "max_score"
   ]
  },
  {
   "cell_type": "code",
   "execution_count": 48,
   "metadata": {},
   "outputs": [
    {
     "name": "stdout",
     "output_type": "stream",
     "text": [
      "rami : 500\n",
      "gopi : 500\n"
     ]
    }
   ],
   "source": [
    "max_score=max(sports.values())\n",
    "for i in sports.items():\n",
    "    if(i[1]==max_score):\n",
    "        print(i[0],\":\",i[1])\n",
    "    "
   ]
  },
  {
   "cell_type": "code",
   "execution_count": 3,
   "metadata": {},
   "outputs": [
    {
     "name": "stdout",
     "output_type": "stream",
     "text": [
      "sai: 500\n",
      "rami: 400\n",
      "gopi: 300\n",
      "mastan: 200\n",
      "lokesh: 100\n"
     ]
    }
   ],
   "source": [
    "for key,value in sorted(sports.items(),key=lambda item: item[1], reverse = True):\n",
    "    print(\"%s: %s\" % (key,value))\n",
    "   \n",
    "    \n",
    "    \n"
   ]
  },
  {
   "cell_type": "code",
   "execution_count": 12,
   "metadata": {},
   "outputs": [
    {
     "name": "stdout",
     "output_type": "stream",
     "text": [
      "1 -> rami : 500\n",
      "2 -> gopi : 400\n",
      "3 -> uv : 300\n",
      "4 -> mastan : 200\n",
      "5 -> lokesh : 100\n"
     ]
    }
   ],
   "source": [
    "rank=0\n",
    "for i in sorted(sports.values(),reverse = True):\n",
    "    rank=rank+1\n",
    "    for j in sports.keys():\n",
    "        if sports.get(j) == i:\n",
    "            print(rank,\"->\",j,\":\",i)"
   ]
  },
  {
   "cell_type": "code",
   "execution_count": 2,
   "metadata": {},
   "outputs": [
    {
     "name": "stdout",
     "output_type": "stream",
     "text": [
      "2 10\n",
      "[1, 2] 2\n"
     ]
    }
   ],
   "source": [
    "#common factors\n",
    "var=input().split()\n",
    "lb=int(var[0])\n",
    "ub=int(var[1])\n",
    "def commonfactoflbub(lb,ub):\n",
    "    l=[]\n",
    "    if lb!=0 and ub!=0:\n",
    "        for i in range(1,lb+1):\n",
    "            if lb%i==0 and ub%i==0:\n",
    "                l.append(i)\n",
    "            \n",
    "    print(l,len(l))\n",
    "commonfactoflbub(lb,ub)"
   ]
  },
  {
   "cell_type": "code",
   "execution_count": 9,
   "metadata": {},
   "outputs": [
    {
     "data": {
      "text/plain": [
       "30"
      ]
     },
     "execution_count": 9,
     "metadata": {},
     "output_type": "execute_result"
    }
   ],
   "source": [
    "import mymodule\n",
    "\n",
    "mymodule.hello(10,20)"
   ]
  },
  {
   "cell_type": "code",
   "execution_count": 10,
   "metadata": {},
   "outputs": [
    {
     "data": {
      "text/plain": [
       "50"
      ]
     },
     "execution_count": 10,
     "metadata": {},
     "output_type": "execute_result"
    }
   ],
   "source": [
    "import mymodule as m\n",
    "\n",
    "m.hello(20,30)"
   ]
  },
  {
   "cell_type": "code",
   "execution_count": 5,
   "metadata": {},
   "outputs": [
    {
     "name": "stdout",
     "output_type": "stream",
     "text": [
      "lokeshramimastan\n"
     ]
    }
   ],
   "source": [
    "s=\"lokesh\"\n",
    "s1=\"rami\"\n",
    "s2=\"mastan\"\n",
    "#print(s,s1,s2)\n",
    "print(s+s1+s2)"
   ]
  },
  {
   "cell_type": "code",
   "execution_count": 14,
   "metadata": {},
   "outputs": [
    {
     "data": {
      "text/plain": [
       "['1', '2', '3', '4']"
      ]
     },
     "execution_count": 14,
     "metadata": {},
     "output_type": "execute_result"
    }
   ],
   "source": [
    "s='1,2,3,4'\n",
    "s=s.split(',')\n",
    "l=[]\n",
    "for i in s:\n",
    "    l.append(i)\n",
    "l"
   ]
  },
  {
   "cell_type": "code",
   "execution_count": 23,
   "metadata": {},
   "outputs": [
    {
     "name": "stdout",
     "output_type": "stream",
     "text": [
      "['A', 'B', 'C', 'D', 'E', 'F', 'G', 'H', 'I', 'J', 'K', 'L', 'M', 'N', 'O', 'P', 'Q', 'R', 'S', 'T', 'U', 'V', 'W', 'X', 'Y', 'Z'] [1, 2, 3, 4, 5, 6, 7, 8, 9, 10, 11, 12, 13, 14, 15, 16, 17, 18, 19, 20, 21, 22, 23, 24, 25, 26] 11\n"
     ]
    }
   ],
   "source": [
    "ll=[]\n",
    "lv=[]\n",
    "for i in range(65,91):\n",
    "    ll.append(chr(i))\n",
    "print(ll,end=\" \")\n",
    "for j in range(1,26+1):\n",
    "    lv.append(j)\n",
    "print(lv, end=\" \")\n",
    "\n",
    "\n",
    "    \n",
    "        "
   ]
  },
  {
   "cell_type": "code",
   "execution_count": 33,
   "metadata": {},
   "outputs": [
    {
     "name": "stdout",
     "output_type": "stream",
     "text": [
      "1\n"
     ]
    }
   ],
   "source": [
    "#heighest frequent element in the list\n",
    "#[1,1,1,2,2,3,1,1,2,3,3]\n",
    "#o/p->1\n",
    "def most_frequent(List): \n",
    "    counter = 0\n",
    "    num = List[0] \n",
    "      \n",
    "    for i in List: \n",
    "        curr_frequency = List.count(i) \n",
    "        if(curr_frequency> counter): \n",
    "            counter = curr_frequency \n",
    "            num = i \n",
    "  \n",
    "    return num \n",
    "  \n",
    "List = [1,1,1,2,2,3,1,1,2,3,3]\n",
    "print(most_frequent(List))\n"
   ]
  },
  {
   "cell_type": "code",
   "execution_count": 37,
   "metadata": {},
   "outputs": [
    {
     "name": "stdout",
     "output_type": "stream",
     "text": [
      "2\n"
     ]
    }
   ],
   "source": [
    "l = [1,1,1,2,2,2,2,2,2,3,1,1,2,3,3]\n",
    "c=0\n",
    "n=l[0]\n",
    "for i in l:\n",
    "    r=l.count(i)\n",
    "    if(r>c):\n",
    "        c=r\n",
    "        n=i\n",
    "print(n)"
   ]
  },
  {
   "cell_type": "code",
   "execution_count": 29,
   "metadata": {},
   "outputs": [
    {
     "name": "stdout",
     "output_type": "stream",
     "text": [
      "20\n",
      "50\n",
      "30\n"
     ]
    }
   ],
   "source": [
    "#find absolute value in two numbers without using abs function\n",
    "a=int(input())\n",
    "b=int(input())\n",
    "c=a-b\n",
    "if(c<0):\n",
    "    print(-c)\n",
    "else:\n",
    "    print(c)"
   ]
  },
  {
   "cell_type": "code",
   "execution_count": 83,
   "metadata": {},
   "outputs": [
    {
     "name": "stdout",
     "output_type": "stream",
     "text": [
      "1\n",
      "['a', 'g', 'd', 'h', 'e', 'a', 'b', 'c', 'd', 'a', 'e', 'b']\n",
      "unique list: {'a': 3, 'g': 1, 'd': 2, 'h': 1, 'e': 2, 'b': 2, 'c': 1}\n",
      "frequncy values list: [3, 1, 2]\n",
      "frequncy sorted values list: [1, 2, 3]\n",
      "index values: 3\n",
      "kays list: ['a']\n",
      "sorted keys list ['a']\n",
      "a\n"
     ]
    }
   ],
   "source": [
    "def secondheightelement(li,s):\n",
    "    print(li)\n",
    "    \n",
    "    d = {}\n",
    "    for i in li:\n",
    "        if i not in d:\n",
    "            d[i] = 1\n",
    "        else:\n",
    "            d[i] += 1\n",
    "    print('unique list:',d)\n",
    "    \n",
    "    \n",
    "    fl = []\n",
    "    for k,v in d.items():\n",
    "        if v not in fl:\n",
    "            fl.append(v)\n",
    "    print('frequncy values list:',fl)\n",
    "    \n",
    "    \n",
    "    sl = sorted(fl)\n",
    "    print('frequncy sorted values list:',sl)\n",
    "    \n",
    "    \n",
    "    n = (sl[len(sl)-s])\n",
    "    print('index values:',n)\n",
    "    \n",
    "    nl = []\n",
    "    if len(sl)>=s:       \n",
    "        for k,v in d.items():\n",
    "            if v==n:\n",
    "                if k not in nl:\n",
    "                    nl.append(k)\n",
    "        print('kays list:',nl)\n",
    "        \n",
    "        \n",
    "        kl = sorted(nl)\n",
    "        print('sorted keys list',kl)\n",
    "        \n",
    "        \n",
    "        return kl[0]           \n",
    "    return -1\n",
    "e = int(input())   \n",
    "#print(secondheightelement([2,2,2,1,1,1,3,5,6,7,6,3,3,4,4],e))\n",
    "print(secondheightelement(['a','g','d','h','e','a','b','c','d','a','e','b'],e))"
   ]
  },
  {
   "cell_type": "code",
   "execution_count": 88,
   "metadata": {},
   "outputs": [
    {
     "name": "stdout",
     "output_type": "stream",
     "text": [
      "2\n",
      "1\n",
      "3\n"
     ]
    }
   ],
   "source": [
    "#heighest freequency element in the list\n",
    "def highestfrequency(l):\n",
    "    d={}\n",
    "    for i in l:\n",
    "        count=l.count(i)\n",
    "        if i not in d:\n",
    "            d[i]=count\n",
    "    return d\n",
    "d=highestfrequency([2,2,2,1,1,1,3,5,6,7,6,3,3,4,4])\n",
    "max_val=max(d.values())\n",
    "for i in d.items():\n",
    "    if i[1]==max_val:\n",
    "        print(i[0])\n",
    "\n",
    "\n"
   ]
  },
  {
   "cell_type": "code",
   "execution_count": 93,
   "metadata": {},
   "outputs": [
    {
     "name": "stdout",
     "output_type": "stream",
     "text": [
      "6\n",
      "4\n"
     ]
    }
   ],
   "source": [
    "#second highest element\n",
    "def highestfrequency(l):\n",
    "    d={}\n",
    "    for i in l:\n",
    "        count=l.count(i)\n",
    "        if i not in d:\n",
    "            d[i]=count\n",
    "    return d\n",
    "d=highestfrequency([2,2,2,1,1,1,3,5,6,7,6,3,3,4,4])\n",
    "ll=sorted(d.values(),reverse=True)\n",
    "l2 = []\n",
    "for i in ll:\n",
    "    if i not in l2:\n",
    "        l2.append(i)\n",
    "max_val=l2[1]\n",
    "for i in d.items():\n",
    "    if i[1]==max_val:\n",
    "        print(i[0])"
   ]
  },
  {
   "cell_type": "code",
   "execution_count": 3,
   "metadata": {},
   "outputs": [
    {
     "name": "stdout",
     "output_type": "stream",
     "text": [
      "86\n",
      "33\n",
      "46\n",
      "13\n",
      "EXIT\n",
      "86 46 \n",
      "\n",
      "86\n"
     ]
    }
   ],
   "source": [
    "l=[]\n",
    "while True:\n",
    "    n=input()\n",
    "    if(n==\"EXIT\"):\n",
    "        break\n",
    "    num=int(n)\n",
    "    if(num%2==0):\n",
    "        l.append(n)\n",
    "for i in l:\n",
    "    print(i,end=\" \")\n",
    "print(\"\\n\")\n",
    "print(max(l))"
   ]
  },
  {
   "cell_type": "code",
   "execution_count": 6,
   "metadata": {},
   "outputs": [
    {
     "name": "stdout",
     "output_type": "stream",
     "text": [
      "3\n",
      "www.google.com\n",
      "www.gmail.com\n",
      "www.yahoo.in\n",
      "{'com': 2, 'in': 1}\n",
      "com\n"
     ]
    }
   ],
   "source": [
    "n=int(input())\n",
    "d={}\n",
    "for i in range(n):\n",
    "    s=input().split('.')\n",
    "    domain=s[-1]\n",
    "    if domain not in d:\n",
    "        d[domain]=1\n",
    "    else:\n",
    "        d[domain]+=1\n",
    "m=max(d.values())\n",
    "print(d)\n",
    "for i in d.items():\n",
    "    if i[1]==m:\n",
    "        print(i[0])\n",
    "    \n",
    "    "
   ]
  },
  {
   "cell_type": "code",
   "execution_count": null,
   "metadata": {},
   "outputs": [],
   "source": []
  }
 ],
 "metadata": {
  "kernelspec": {
   "display_name": "Python 3",
   "language": "python",
   "name": "python3"
  },
  "language_info": {
   "codemirror_mode": {
    "name": "ipython",
    "version": 3
   },
   "file_extension": ".py",
   "mimetype": "text/x-python",
   "name": "python",
   "nbconvert_exporter": "python",
   "pygments_lexer": "ipython3",
   "version": "3.7.3"
  }
 },
 "nbformat": 4,
 "nbformat_minor": 2
}
