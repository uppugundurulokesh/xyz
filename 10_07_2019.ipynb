{
 "cells": [
  {
   "cell_type": "markdown",
   "metadata": {},
   "source": [
    "# files"
   ]
  },
  {
   "cell_type": "code",
   "execution_count": 3,
   "metadata": {},
   "outputs": [],
   "source": [
    "#creating a file and writing something into it\n",
    "filepath='lokesh/firstfile.txt'\n",
    "with open(filepath,'w') as f:\n",
    "    f.write(\"hello sai good morning!\\n\")\n",
    "    f.write(\"this is my second line\")\n"
   ]
  },
  {
   "cell_type": "code",
   "execution_count": 7,
   "metadata": {},
   "outputs": [
    {
     "name": "stdout",
     "output_type": "stream",
     "text": [
      "1\n",
      "2\n",
      "3\n",
      "4\n",
      "5\n",
      "6\n",
      "7\n",
      "8\n",
      "9\n",
      "10\n",
      "11\n",
      "12\n",
      "13\n",
      "14\n",
      "15\n"
     ]
    }
   ],
   "source": [
    "# read data from the file\n",
    "with open(filepath,'r') as f:\n",
    "    s= f.read() # it reads the all the lines\n",
    "    print(s)"
   ]
  },
  {
   "cell_type": "code",
   "execution_count": 19,
   "metadata": {},
   "outputs": [
    {
     "name": "stdout",
     "output_type": "stream",
     "text": [
      "1 2 3 4 5 6 7 8 9 10 11 12 13 14 15 \n",
      " 120\n",
      "8\n"
     ]
    }
   ],
   "source": [
    "#Read numbers from a file and sum them up\n",
    "import math\n",
    "with open(filepath,'r') as f:\n",
    "    #print(f.readline())\n",
    "    #print(f.readlines())\n",
    "    s=0\n",
    "    c=0\n",
    "    for i in f:\n",
    "        print(int(i),end=\" \")\n",
    "        s=s+int(i)\n",
    "        c=c+1\n",
    "    print(\"\\n\",s)\n",
    "    #print(\"\\n\",s//c)\n",
    "    #print(int(s/c))\n",
    "    print(math.floor(s/c))"
   ]
  },
  {
   "cell_type": "code",
   "execution_count": 20,
   "metadata": {},
   "outputs": [],
   "source": [
    "#create another file\n",
    "filepath='lokesh/secondfile'\n",
    "with open(filepath,'w') as f:\n",
    "    f.write(\"this is secondfile\")\n",
    "    "
   ]
  },
  {
   "cell_type": "code",
   "execution_count": 21,
   "metadata": {},
   "outputs": [
    {
     "name": "stdout",
     "output_type": "stream",
     "text": [
      "5\n"
     ]
    }
   ],
   "source": [
    "#count number of lines\n",
    "filepath='lokesh/secondfile'\n",
    "with open(filepath,'r') as f:\n",
    "    linecount=0\n",
    "    for i in f:\n",
    "        linecount=linecount+1\n",
    "    print(linecount)"
   ]
  },
  {
   "cell_type": "code",
   "execution_count": 22,
   "metadata": {},
   "outputs": [
    {
     "name": "stdout",
     "output_type": "stream",
     "text": [
      "23\n"
     ]
    }
   ],
   "source": [
    "#count number of words in file\n",
    "filepath='lokesh/secondfile'\n",
    "with open(filepath,'r') as f:\n",
    "    wordcount=0\n",
    "    for i in f:\n",
    "        l=i.split(\" \")\n",
    "        wordcount += len(l)\n",
    "    print(wordcount)"
   ]
  },
  {
   "cell_type": "code",
   "execution_count": 32,
   "metadata": {},
   "outputs": [
    {
     "name": "stdout",
     "output_type": "stream",
     "text": [
      "24\n"
     ]
    }
   ],
   "source": [
    "#another way word count\n",
    "filepath='lokesh/secondfile'\n",
    "with open(filepath,'r') as f:\n",
    "    #s=f.read().split(\" \")\n",
    "    #s=f.readlines\n",
    "    #s=f.read().split('\\n')\n",
    "    s=\" \".join(s).split(\" \")\n",
    "    print(len(s))\n",
    "    #print(s)"
   ]
  },
  {
   "cell_type": "code",
   "execution_count": 33,
   "metadata": {},
   "outputs": [
    {
     "name": "stdout",
     "output_type": "stream",
     "text": [
      "praneeth is a programmger\n"
     ]
    }
   ],
   "source": [
    "l=[\"praneeth\",\"is\",\"a\",\"programmger\"]\n",
    "s=\" \".join(l)\n",
    "print(s)"
   ]
  },
  {
   "cell_type": "code",
   "execution_count": 52,
   "metadata": {},
   "outputs": [
    {
     "name": "stdout",
     "output_type": "stream",
     "text": [
      "83\n"
     ]
    }
   ],
   "source": [
    "#character count\n",
    "filepath='lokesh/secondfile'\n",
    "with open(filepath,'r') as f:\n",
    "    charc=0\n",
    "#     for i in f:\n",
    "#         s=list(i)\n",
    "#         print(s)\n",
    "    #s=list(f.read())\n",
    "    for i in f:\n",
    "        s=i.split()\n",
    "        for j in s:\n",
    "            charc+=len(j)\n",
    "\n",
    "    print(charc)"
   ]
  },
  {
   "cell_type": "code",
   "execution_count": 62,
   "metadata": {},
   "outputs": [
    {
     "name": "stdout",
     "output_type": "stream",
     "text": [
      "32\n"
     ]
    }
   ],
   "source": [
    "filepath='lokesh/secondfile'\n",
    "c=0\n",
    "with open(filepath,'r') as f:\n",
    "    for i in f:\n",
    "        s=i.split()\n",
    "        s=\" \".join(i).split()\n",
    "        c=c+len(s)\n",
    "    print(c)\n",
    "        \n",
    "        "
   ]
  },
  {
   "cell_type": "code",
   "execution_count": 49,
   "metadata": {},
   "outputs": [
    {
     "data": {
      "text/plain": [
       "'lokesh'"
      ]
     },
     "execution_count": 49,
     "metadata": {},
     "output_type": "execute_result"
    }
   ],
   "source": [
    "s=\" lokesh \"\n",
    "#s=s.lstrip() # it removes the left space\n",
    "#s=s.rstrip() # it removes the right space\n",
    "s=s.strip() # it removes the spaces\n",
    "\n",
    "\n",
    "s"
   ]
  },
  {
   "cell_type": "code",
   "execution_count": 66,
   "metadata": {},
   "outputs": [
    {
     "data": {
      "text/plain": [
       "4"
      ]
     },
     "execution_count": 66,
     "metadata": {},
     "output_type": "execute_result"
    }
   ],
   "source": [
    "# Function to search for data in a list\n",
    "# Search for the key in the list and return the index of the key. Return -1 if key not found\n",
    "def linearSearch(li, key):\n",
    "    for index in range(0, len(li)):\n",
    "        if li[index] == key:\n",
    "            return index\n",
    "    return -1\n",
    "\n",
    "def linearSearch2(li, key):\n",
    "    for element in li:\n",
    "        if element == key:\n",
    "            return li.index(element)\n",
    "    return -1\n",
    "\n",
    "def linearSearch3(li, key):\n",
    "    if key in li:\n",
    "        return li.index(key)\n",
    "    return -1\n",
    "li=[1,2,3,4,5,789]\n",
    "linearSearch2(li, 5)"
   ]
  },
  {
   "cell_type": "code",
   "execution_count": 67,
   "metadata": {},
   "outputs": [
    {
     "data": {
      "text/plain": [
       "3"
      ]
     },
     "execution_count": 67,
     "metadata": {},
     "output_type": "execute_result"
    }
   ],
   "source": [
    "li=[1,2,3,4,5,789]\n",
    "li.index(4)"
   ]
  },
  {
   "cell_type": "code",
   "execution_count": 74,
   "metadata": {},
   "outputs": [
    {
     "name": "stdout",
     "output_type": "stream",
     "text": [
      "w\n",
      "index position is : 6\n"
     ]
    }
   ],
   "source": [
    "#find index value of given char\n",
    "s=\"hello welcome to apssdc\"\n",
    "i=input()\n",
    "if i in s:\n",
    "    print(\"index position is :\",s.index(i))"
   ]
  },
  {
   "cell_type": "code",
   "execution_count": 82,
   "metadata": {},
   "outputs": [
    {
     "name": "stdout",
     "output_type": "stream",
     "text": [
      "9\n"
     ]
    }
   ],
   "source": [
    "#find number of words in a string\n",
    "s='''hello welcome to apssdc 123\n",
    "this is second line'''\n",
    "s=s.split()\n",
    "c=0\n",
    "for i in s:\n",
    "    c=c+1\n",
    "print(c)\n",
    "    "
   ]
  },
  {
   "cell_type": "code",
   "execution_count": 81,
   "metadata": {},
   "outputs": [
    {
     "name": "stdout",
     "output_type": "stream",
     "text": [
      "47\n"
     ]
    }
   ],
   "source": [
    "#find the characters of a string with spaces\n",
    "s='''hello welcome to apssdc 123\n",
    "this is second line'''\n",
    "c=0\n",
    "for i in s:\n",
    "    c=c+1\n",
    "print(c)"
   ]
  },
  {
   "cell_type": "code",
   "execution_count": 95,
   "metadata": {},
   "outputs": [
    {
     "name": "stdout",
     "output_type": "stream",
     "text": [
      "hellowelcometoapssdc123\n",
      "23\n"
     ]
    }
   ],
   "source": [
    "#find the characters of a string with out spaces\n",
    "s=\"hello welcome to apssdc 123\"\n",
    "s1=s.split()\n",
    "s2=\"\".join(s1)\n",
    "print(s2)\n",
    "c=0\n",
    "for i in s2:\n",
    "    c=c+1\n",
    "print(c)\n",
    "\n",
    "    \n"
   ]
  },
  {
   "cell_type": "code",
   "execution_count": 97,
   "metadata": {},
   "outputs": [
    {
     "name": "stdout",
     "output_type": "stream",
     "text": [
      "muni"
     ]
    }
   ],
   "source": [
    "#duplicate characters\n",
    "s=\"munii\"\n",
    "l=[]\n",
    "for i in s:\n",
    "    if i not in l:\n",
    "        l.append(i)\n",
    "for i in l:\n",
    "    print(i,end=\"\")"
   ]
  },
  {
   "cell_type": "code",
   "execution_count": 98,
   "metadata": {},
   "outputs": [
    {
     "name": "stdout",
     "output_type": "stream",
     "text": [
      "2\n",
      "muniu\n",
      "lokesh\n",
      "['muniu', 'lokesh']\n"
     ]
    }
   ],
   "source": [
    "n=int(input())\n",
    "l=[]\n",
    "for i in range(n):\n",
    "    s=input()\n",
    "    l.append(s)\n",
    "print(l)"
   ]
  },
  {
   "cell_type": "code",
   "execution_count": 106,
   "metadata": {},
   "outputs": [
    {
     "data": {
      "text/plain": [
       "'Specialcharactersspaces888323'"
      ]
     },
     "execution_count": 106,
     "metadata": {},
     "output_type": "execute_result"
    }
   ],
   "source": [
    "string = \"Special $#! characters   spaces 888323\"\n",
    "s1=''.join(e for e in string if e.isalnum())\n",
    "s1\n"
   ]
  },
  {
   "cell_type": "code",
   "execution_count": 117,
   "metadata": {},
   "outputs": [
    {
     "name": "stdout",
     "output_type": "stream",
     "text": [
      "lokesh welcom\n",
      "['lokesh', 'welcom']\n"
     ]
    }
   ],
   "source": [
    "s=input().split()\n",
    "print(s)"
   ]
  },
  {
   "cell_type": "code",
   "execution_count": 122,
   "metadata": {},
   "outputs": [
    {
     "data": {
      "text/plain": [
       "[30, 20, 9, 6, 5, 4, 3, 2, 1]"
      ]
     },
     "execution_count": 122,
     "metadata": {},
     "output_type": "execute_result"
    }
   ],
   "source": [
    "l=[1,2,3,4,5,6,9,20,30]\n",
    "l[::-1]\n"
   ]
  },
  {
   "cell_type": "code",
   "execution_count": 139,
   "metadata": {},
   "outputs": [
    {
     "name": "stdout",
     "output_type": "stream",
     "text": [
      "yes\n"
     ]
    }
   ],
   "source": [
    "s=0\n",
    "for i in range(1,len(l)-1):\n",
    "    s=s+i*l[i]\n"
   ]
  },
  {
   "cell_type": "code",
   "execution_count": 141,
   "metadata": {},
   "outputs": [
    {
     "name": "stdout",
     "output_type": "stream",
     "text": [
      "123\n"
     ]
    },
    {
     "data": {
      "text/plain": [
       "123"
      ]
     },
     "execution_count": 141,
     "metadata": {},
     "output_type": "execute_result"
    }
   ],
   "source": [
    "n=int(input())\n"
   ]
  },
  {
   "cell_type": "code",
   "execution_count": 145,
   "metadata": {},
   "outputs": [
    {
     "name": "stdout",
     "output_type": "stream",
     "text": [
      "lokesh sai gopi\n"
     ]
    },
    {
     "data": {
      "text/plain": [
       "['lokesh', 'sai', 'gopi']"
      ]
     },
     "execution_count": 145,
     "metadata": {},
     "output_type": "execute_result"
    }
   ],
   "source": [
    "l=list(input().split())\n",
    "l"
   ]
  },
  {
   "cell_type": "code",
   "execution_count": 146,
   "metadata": {},
   "outputs": [
    {
     "name": "stdout",
     "output_type": "stream",
     "text": [
      "abc\n",
      "6\n"
     ]
    }
   ],
   "source": [
    "#charSum\n",
    "s=input()\n",
    "def sumchar(s):\n",
    "    sum=0\n",
    "    for i in range(0,len(s)):\n",
    "        if(s[i]>=chr(97) and s[i]<=chr(122)):\n",
    "            sum=sum+(ord(s[i])-96)\n",
    "    print(sum)\n",
    "sumchar(s)\n"
   ]
  },
  {
   "cell_type": "code",
   "execution_count": 8,
   "metadata": {},
   "outputs": [],
   "source": [
    "file=\"lokesh/check.txt\"\n",
    "with open(file,'w') as f:\n",
    "    \n",
    "    f.write(\"hello\")\n",
    "    "
   ]
  },
  {
   "cell_type": "code",
   "execution_count": 4,
   "metadata": {},
   "outputs": [
    {
     "name": "stdout",
     "output_type": "stream",
     "text": [
      "hello\n"
     ]
    }
   ],
   "source": [
    "file=\"lokesh/check.txt\"\n",
    "with open(file,'r') as f:\n",
    "    s=f.read()\n",
    "    print(s)"
   ]
  },
  {
   "cell_type": "code",
   "execution_count": 6,
   "metadata": {},
   "outputs": [
    {
     "name": "stdout",
     "output_type": "stream",
     "text": [
      "2\n"
     ]
    }
   ],
   "source": [
    "file=\"lokesh/check.txt\"\n",
    "with open(file,'r') as f:\n",
    "    lc=0\n",
    "    for i in f:\n",
    "        lc=lc+1\n",
    "    print(lc)"
   ]
  },
  {
   "cell_type": "code",
   "execution_count": 15,
   "metadata": {},
   "outputs": [
    {
     "name": "stdout",
     "output_type": "stream",
     "text": [
      "3\n"
     ]
    }
   ],
   "source": [
    "file=\"lokesh/check.txt\"\n",
    "with open(file,'r') as f:\n",
    "    wc=0\n",
    "    for i in f:\n",
    "        l=i.split(\" \")\n",
    "        wc=wc+len(l)\n",
    "    print(wc)"
   ]
  },
  {
   "cell_type": "code",
   "execution_count": 16,
   "metadata": {},
   "outputs": [
    {
     "name": "stdout",
     "output_type": "stream",
     "text": [
      "18\n"
     ]
    }
   ],
   "source": [
    "file=\"lokesh/check.txt\"\n",
    "with open(file,'r') as f:\n",
    "    c=0\n",
    "    for i in f:\n",
    "        for j in i:\n",
    "            c=c+len(j)\n",
    "    print(c)\n",
    "    "
   ]
  },
  {
   "cell_type": "code",
   "execution_count": 19,
   "metadata": {},
   "outputs": [],
   "source": [
    "file=\"lokesh/check.txt\"\n",
    "with open(file,'a') as f:\n",
    "    f.write(\"ding is don\")\n",
    "    "
   ]
  },
  {
   "cell_type": "code",
   "execution_count": 25,
   "metadata": {},
   "outputs": [
    {
     "name": "stdout",
     "output_type": "stream",
     "text": [
      "90\n"
     ]
    }
   ],
   "source": [
    "file=\"lokesh/check.txt\"\n",
    "l=[]\n",
    "with open(file,'r') as f:\n",
    "    s=f.read()\n",
    "    s=s.split()\n",
    "    print(max(s))\n",
    "    "
   ]
  },
  {
   "cell_type": "code",
   "execution_count": null,
   "metadata": {},
   "outputs": [],
   "source": []
  }
 ],
 "metadata": {
  "kernelspec": {
   "display_name": "Python 3",
   "language": "python",
   "name": "python3"
  },
  "language_info": {
   "codemirror_mode": {
    "name": "ipython",
    "version": 3
   },
   "file_extension": ".py",
   "mimetype": "text/x-python",
   "name": "python",
   "nbconvert_exporter": "python",
   "pygments_lexer": "ipython3",
   "version": "3.7.3"
  }
 },
 "nbformat": 4,
 "nbformat_minor": 2
}
