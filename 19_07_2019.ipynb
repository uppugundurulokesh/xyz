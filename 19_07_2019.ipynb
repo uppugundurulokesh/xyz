{
 "cells": [
  {
   "cell_type": "code",
   "execution_count": 3,
   "metadata": {},
   "outputs": [
    {
     "name": "stdout",
     "output_type": "stream",
     "text": [
      "enter year1990\n",
      "enter month11\n",
      "   November 1990\n",
      "Mo Tu We Th Fr Sa Su\n",
      "          1  2  3  4\n",
      " 5  6  7  8  9 10 11\n",
      "12 13 14 15 16 17 18\n",
      "19 20 21 22 23 24 25\n",
      "26 27 28 29 30\n",
      "\n"
     ]
    }
   ],
   "source": [
    "#Calendar\n",
    "import calendar\n",
    "y=int(input(\"enter year\"))\n",
    "m=int(input(\"enter month\"))\n",
    "print(calendar.month(y,m))"
   ]
  },
  {
   "cell_type": "code",
   "execution_count": 6,
   "metadata": {},
   "outputs": [
    {
     "name": "stdout",
     "output_type": "stream",
     "text": [
      "enter principle amount1200\n",
      "enter rate 5.4\n",
      "enter time2\n",
      "the compound interest is:  1333.0992\n"
     ]
    }
   ],
   "source": [
    "#compound intrest\n",
    "# Compound Interest = P(1 + R/100)r\n",
    "# Where,\n",
    "# P is principle amount\n",
    "# R is the rate and\n",
    "# T is the time span\n",
    "p=int(input(\"enter principle amount\"))\n",
    "r=float(input(\"enter rate \"))\n",
    "t=int(input(\"enter time\"))\n",
    "\n",
    "c=(p*pow((1+r/100),t))\n",
    "print(\"the compound interest is: \",c)\n",
    "\n",
    "\n"
   ]
  },
  {
   "cell_type": "code",
   "execution_count": 8,
   "metadata": {},
   "outputs": [
    {
     "name": "stdout",
     "output_type": "stream",
     "text": [
      "Compound interest is 1333.0992\n"
     ]
    }
   ],
   "source": [
    "def compound_interest(principle, rate, time): \n",
    "  \n",
    "    # Calculates compound interest  \n",
    "    CI = principle * (pow((1 + rate / 100), time)) \n",
    "    print(\"Compound interest is\", CI) \n",
    "   \n",
    "compound_interest(1200, 5.4, 2) "
   ]
  },
  {
   "cell_type": "code",
   "execution_count": 18,
   "metadata": {},
   "outputs": [
    {
     "name": "stdout",
     "output_type": "stream",
     "text": [
      "enter a number 6\n",
      "given number is not armstrong number  6\n"
     ]
    }
   ],
   "source": [
    "#ArmStrong number or not\n",
    "n=int(input(\"enter a number \"))\n",
    "s=0\n",
    "temp=n\n",
    "while(n>0):\n",
    "    r=n%10\n",
    "    s=s+r*r*r\n",
    "    n=n//10\n",
    "if(s==temp):\n",
    "    print(\"given number is armstrong number\",temp)\n",
    "else:\n",
    "    print(\"given number is not armstrong number \",temp)"
   ]
  },
  {
   "cell_type": "code",
   "execution_count": 21,
   "metadata": {},
   "outputs": [
    {
     "name": "stdout",
     "output_type": "stream",
     "text": [
      "enter lower digit200\n",
      "enter upper digit1000\n",
      "370\n",
      "371\n",
      "407\n"
     ]
    }
   ],
   "source": [
    "#inbetween range of armstrong number\n",
    "lower=int(input(\"enter lower digit\"))\n",
    "upper=int(input(\"enter upper digit\"))\n",
    "for i in range(lower,upper+1):\n",
    "    s=0;\n",
    "    temp=i\n",
    "    while(i>0):\n",
    "        r=i%10\n",
    "        s=s+r*r*r\n",
    "        i=i//10\n",
    "    if(s==temp):\n",
    "        print(temp)\n",
    "        "
   ]
  },
  {
   "cell_type": "code",
   "execution_count": 22,
   "metadata": {},
   "outputs": [
    {
     "name": "stdout",
     "output_type": "stream",
     "text": [
      "enter a number 7\n",
      "given number is prime  7\n"
     ]
    }
   ],
   "source": [
    "#print give number is prime or not\n",
    "n=int(input(\"enter a number \"))\n",
    "for i in range(2,n):\n",
    "    if(n%i==0):\n",
    "        print(\"given number is not prime, \",n)\n",
    "        break\n",
    "else:\n",
    "    print(\"given number is prime \",n)"
   ]
  },
  {
   "cell_type": "code",
   "execution_count": 25,
   "metadata": {},
   "outputs": [],
   "source": [
    "#using function prime true or not\n",
    "def isprime(i):\n",
    "    for j in range(2,i):\n",
    "        if (i%j == 0):\n",
    "            return False\n",
    "    return True\n",
    "        "
   ]
  },
  {
   "cell_type": "code",
   "execution_count": 26,
   "metadata": {},
   "outputs": [
    {
     "name": "stdout",
     "output_type": "stream",
     "text": [
      "1\n",
      "20\n",
      "2 3 5 7 11 13 17 19 "
     ]
    }
   ],
   "source": [
    "#using function prime print inbetween range\n",
    "def printprimes(lb,ub):\n",
    "    if lb == 1:\n",
    "        lb += 1\n",
    "        for i in range(lb,ub):\n",
    "            if isprime(i):\n",
    "                print(i,end = ' ')\n",
    "    else:\n",
    "        for i in range(lb,ub):\n",
    "            if isprime(i):\n",
    "                print(i,end = ' ')      \n",
    "lb = int(input())\n",
    "ub = int(input())\n",
    "printprimes(lb,ub)"
   ]
  },
  {
   "cell_type": "code",
   "execution_count": 29,
   "metadata": {},
   "outputs": [
    {
     "name": "stdout",
     "output_type": "stream",
     "text": [
      "enter lower value 1\n",
      "enter upper value 200\n",
      "2 3 5 7 11 13 17 19 23 29 31 37 41 43 47 53 59 61 67 71 73 79 83 89 97 101 103 107 109 113 127 131 137 139 149 151 157 163 167 173 179 181 191 193 197 199 "
     ]
    }
   ],
   "source": [
    "#prime numbers in between range\n",
    "start = int(input(\"enter lower value \"))\n",
    "end = int(input(\"enter upper value \"))\n",
    "for i in range(start,end+1):\n",
    "    if(i>1):\n",
    "        for j in range(2,i):\n",
    "            if(i%j==0):\n",
    "                break\n",
    "        else:\n",
    "            print(i,end=\" \")\n"
   ]
  },
  {
   "cell_type": "code",
   "execution_count": 34,
   "metadata": {},
   "outputs": [
    {
     "name": "stdout",
     "output_type": "stream",
     "text": [
      "2\n"
     ]
    }
   ],
   "source": [
    "def Fibonacci(n): \n",
    "    if n<0: \n",
    "        print(\"Incorrect input\") \n",
    "    # First Fibonacci number is 0 \n",
    "    elif n==1: \n",
    "        return 0\n",
    "    # Second Fibonacci number is 1 \n",
    "    elif n==2: \n",
    "        return 1\n",
    "    else: \n",
    "        return Fibonacci(n-1)+Fibonacci(n-2) \n",
    "  \n",
    "\n",
    "  \n",
    "print(Fibonacci(4))"
   ]
  },
  {
   "cell_type": "code",
   "execution_count": null,
   "metadata": {},
   "outputs": [],
   "source": []
  }
 ],
 "metadata": {
  "kernelspec": {
   "display_name": "Python 3",
   "language": "python",
   "name": "python3"
  },
  "language_info": {
   "codemirror_mode": {
    "name": "ipython",
    "version": 3
   },
   "file_extension": ".py",
   "mimetype": "text/x-python",
   "name": "python",
   "nbconvert_exporter": "python",
   "pygments_lexer": "ipython3",
   "version": "3.7.3"
  }
 },
 "nbformat": 4,
 "nbformat_minor": 2
}
