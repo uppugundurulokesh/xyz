{
 "cells": [
  {
   "cell_type": "markdown",
   "metadata": {},
   "source": [
    "# Function to print all numbers divisible by 6 and not a factor of 100 in a given range(lb, ub) inclusive\n"
   ]
  },
  {
   "cell_type": "code",
   "execution_count": 5,
   "metadata": {},
   "outputs": [
    {
     "name": "stdout",
     "output_type": "stream",
     "text": [
      "1\n",
      "200\n",
      "6 12 18 24 30 36 42 48 54 60 66 72 78 84 90 96 102 108 114 120 126 132 138 144 150 156 162 168 174 180 186 192 198 "
     ]
    }
   ],
   "source": [
    "n1=int(input())\n",
    "n2=int(input())\n",
    "for i in range(n1,n2+1):\n",
    "    if(i%6==0 and i%100 !=0):\n",
    "        print(i,end=\" \")\n",
    "    "
   ]
  },
  {
   "cell_type": "markdown",
   "metadata": {},
   "source": [
    "# Function to find the average of cubes of all even numbers in a given range(lb, ub) inclusive\n"
   ]
  },
  {
   "cell_type": "code",
   "execution_count": 77,
   "metadata": {},
   "outputs": [
    {
     "name": "stdout",
     "output_type": "stream",
     "text": [
      "1\n",
      "5\n",
      "average of cubes of all even numbers is:  36\n"
     ]
    }
   ],
   "source": [
    "n1=int(input())\n",
    "n2=int(input())\n",
    "c=0\n",
    "v=0\n",
    "for i in range(n1,n2+1):\n",
    "    \n",
    "    if(i%2==0):\n",
    "        #print(i)\n",
    "        c=c+1\n",
    "        v=v+i**3\n",
    "print(\"average of cubes of all even numbers is: \",v//c)"
   ]
  },
  {
   "cell_type": "markdown",
   "metadata": {},
   "source": [
    "# Function to generate the list of factors for a given number"
   ]
  },
  {
   "cell_type": "code",
   "execution_count": 10,
   "metadata": {},
   "outputs": [
    {
     "name": "stdout",
     "output_type": "stream",
     "text": [
      "enter a number6\n",
      "1\n",
      "2\n",
      "3\n",
      "6\n"
     ]
    }
   ],
   "source": [
    "n=int(input(\"enter a number\"))\n",
    "for i in range(1,n+1):\n",
    "    if(n%i==0):\n",
    "        print(i)\n",
    "\n"
   ]
  },
  {
   "cell_type": "markdown",
   "metadata": {},
   "source": [
    "# Function to calculate the factorial of a given number"
   ]
  },
  {
   "cell_type": "code",
   "execution_count": 16,
   "metadata": {},
   "outputs": [
    {
     "name": "stdout",
     "output_type": "stream",
     "text": [
      "4\n",
      "factorial of a given number is:  24\n"
     ]
    }
   ],
   "source": [
    "n=int(input())\n",
    "fact=1\n",
    "for i in range(1,n+1):\n",
    "    fact=fact*i\n",
    "print(\"factorial of a given number is: \",fact)"
   ]
  },
  {
   "cell_type": "markdown",
   "metadata": {},
   "source": [
    "# Function to check if a given number is Prime"
   ]
  },
  {
   "cell_type": "code",
   "execution_count": 37,
   "metadata": {},
   "outputs": [
    {
     "name": "stdout",
     "output_type": "stream",
     "text": [
      "4 5\n",
      "not prime\n",
      "prime\n"
     ]
    }
   ],
   "source": [
    "n=list(map(int,input().split()))\n",
    "c=0\n",
    "for i in n:\n",
    "    if(i==2):\n",
    "        print(\"prime\")\n",
    "    else:\n",
    "        for k in range(2,i):\n",
    "            if(i%k==0):\n",
    "                print(\"not prime\")\n",
    "                break\n",
    "                \n",
    "        else:\n",
    "            print(\"prime\")\n",
    "\n"
   ]
  },
  {
   "cell_type": "markdown",
   "metadata": {},
   "source": [
    "# Function to calculate the average first N Prime numbers"
   ]
  },
  {
   "cell_type": "code",
   "execution_count": 71,
   "metadata": {},
   "outputs": [
    {
     "name": "stdout",
     "output_type": "stream",
     "text": [
      "10\n",
      "average of prime numbers is:  4\n"
     ]
    }
   ],
   "source": [
    "n=int(input())\n",
    "c=0\n",
    "s=0\n",
    "for i in range(2,n+1):\n",
    "    k=0\n",
    "   \n",
    "    for j in range(2,i//2+1):\n",
    "        if(i%j==0):\n",
    "            k=k+1\n",
    "        \n",
    "    if(k<=0):\n",
    "        c=c+1\n",
    "        #print(i,end=\" \")\n",
    "        #print(c)\n",
    "        s=s+i\n",
    "print(\"average of prime numbers is: \",s//c)\n",
    "            \n",
    "            \n",
    "    "
   ]
  },
  {
   "cell_type": "markdown",
   "metadata": {},
   "source": [
    "# Function to print all the perfect numbers in between range"
   ]
  },
  {
   "cell_type": "code",
   "execution_count": 60,
   "metadata": {},
   "outputs": [
    {
     "name": "stdout",
     "output_type": "stream",
     "text": [
      "6\n",
      "28\n",
      "496\n"
     ]
    }
   ],
   "source": [
    "def printallPerfectNumbers(lb,ub):\n",
    "    for i in range(lb,ub):\n",
    "        if isperfect(i):\n",
    "            print(i)\n",
    "def isperfect(n):\n",
    "    s=0\n",
    "    for i in range(1,n):\n",
    "        if(n%i==0):\n",
    "            s=s+i\n",
    "       \n",
    "    if(s==n):\n",
    "        return True\n",
    "    else:\n",
    "        return False\n",
    "printallPerfectNumbers(1,500)\n"
   ]
  },
  {
   "cell_type": "code",
   "execution_count": null,
   "metadata": {},
   "outputs": [],
   "source": []
  }
 ],
 "metadata": {
  "kernelspec": {
   "display_name": "Python 3",
   "language": "python",
   "name": "python3"
  },
  "language_info": {
   "codemirror_mode": {
    "name": "ipython",
    "version": 3
   },
   "file_extension": ".py",
   "mimetype": "text/x-python",
   "name": "python",
   "nbconvert_exporter": "python",
   "pygments_lexer": "ipython3",
   "version": "3.7.3"
  }
 },
 "nbformat": 4,
 "nbformat_minor": 2
}
